{
 "cells": [
  {
   "cell_type": "markdown",
   "metadata": {},
   "source": [
    "# Project Description\n",
    "\n",
    "This is my first quarter taking any sort of programming classes after I decided to try to switch to a Computer Science major. As such, I took CSE 11 and COGS 18 at the same time. Since I learned many similar concepts in the two classes, I've decided to take what I've learned from both Java and Python to make a program that translates basic Python commands to Java commands. This project could be useful to those who have learned Python and are interested in knowing how similar concepts/commands in Python work in Java. \n",
    "\n",
    "This project is based off of the chatbot from Assignment 3. When the program starts the user can input any Python concept that they want translated to Java. If there is no corresponding concept, the program will say so. Users can also bring up a list of all available translations if they aren't sure what to put."
   ]
  },
  {
   "cell_type": "markdown",
   "metadata": {},
   "source": [
    "# Project Code\n",
    "\n",
    "Credit to TA Byungkwon because his project helped me to get an idea for my project's code layout and formatting. Byungkwon's project and Assignment 3 - Chatbots were very helpful references when I was getting the initial skeleton of my translator running. \n",
    "\n",
    "The translator is fully functional as soon as the start_translator() function is run. The user must type the exact term as it's stored in the program in order to receive its definition. The user can also type 'list_commands' for a list of commands, including a command that provides a random definition from all available terms."
   ]
  },
  {
   "cell_type": "code",
   "execution_count": 1,
   "metadata": {},
   "outputs": [],
   "source": [
    "from my_module.functions import * \n",
    "from my_module.test_functions import *"
   ]
  },
  {
   "cell_type": "code",
   "execution_count": 2,
   "metadata": {},
   "outputs": [
    {
     "name": "stdout",
     "output_type": "stream",
     "text": [
      "Welcome to my Python-to-Java translator!\n",
      "Try typing in a basic Python command to get started,\n",
      "or type 'list_terms' for a list of available Python commands.\n",
      "Type here: quit\n",
      "Goodbye!\n"
     ]
    }
   ],
   "source": [
    "# Start the translator\n",
    "start_translator()"
   ]
  },
  {
   "cell_type": "code",
   "execution_count": 3,
   "metadata": {},
   "outputs": [
    {
     "name": "stdout",
     "output_type": "stream",
     "text": [
      "All tests have run successfully!\n"
     ]
    }
   ],
   "source": [
    "# Run all available test cases\n",
    "run_all_tests()"
   ]
  },
  {
   "cell_type": "code",
   "execution_count": null,
   "metadata": {},
   "outputs": [],
   "source": []
  }
 ],
 "metadata": {
  "kernelspec": {
   "display_name": "Python 3",
   "language": "python",
   "name": "python3"
  },
  "language_info": {
   "codemirror_mode": {
    "name": "ipython",
    "version": 3
   },
   "file_extension": ".py",
   "mimetype": "text/x-python",
   "name": "python",
   "nbconvert_exporter": "python",
   "pygments_lexer": "ipython3",
   "version": "3.7.4"
  }
 },
 "nbformat": 4,
 "nbformat_minor": 2
}
